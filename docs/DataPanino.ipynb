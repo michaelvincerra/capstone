{
 "cells": [
  {
   "cell_type": "markdown",
   "metadata": {},
   "source": [
    "# DataPanino\n"
   ]
  },
  {
   "cell_type": "markdown",
   "metadata": {},
   "source": [
    "<P> Purpose: Provide historical data models and graphs showing World Bank data for France, Germany, Italy, Netherlands, Spain, Switzerland, UK as top 7 contributors to patents/designs. Also show impact of foreign direct investments, and calculate percentage of these that may correlate to intellectual property patents. Then map the areas in 7 countries to show which geographic centers show greatest impact on economic development for intellectual property in high technology sector. (OPTIONAL: Compare Italy's growth in intellectual property receipts vs. the rest of the European Union in the period of 1990-2015.) </p>"
   ]
  },
  {
   "cell_type": "markdown",
   "metadata": {},
   "source": [
    "* User interacts with models by selecting time periods in decades. \n",
    "* User interacts with maps to show locations with highest development $ \n",
    "* User can compare Italy to other countries in the European Union (26 members)\n",
    "* Predictive modeling (projection scenarios) are further work; hopefully can complete\n",
    "\n",
    "\n"
   ]
  },
  {
   "cell_type": "markdown",
   "metadata": {},
   "source": [
    "### WorldBank API\n",
    "https://datahelpdesk.worldbank.org/knowledgebase/topics/125589-developer-information\n",
    "\n",
    "### Works Cited/Sources Required: \n",
    "#### First source indicates scope of France, Germany, Italy, Netherlands, Spain, Switzerland, UK as top 7 contributors to patents/designs.\n",
    "* http://ec.europa.eu/eurostat/statistics-explained/index.php?title=Intellectual_property_rights_statistics&stable=0#Context\n",
    "\n",
    "#### Basis for selction of 7 countries: \n",
    "* http://appsso.eurostat.ec.europa.eu/nui/submitViewTableAction.do\n",
    "* http://appsso.eurostat.ec.europa.eu/nui/show.do?dataset=pat_ep_ntot&lang=en\n",
    "#### Patent applications in EU: < 2016 http://ec.europa.eu/eurostat/statistics-explained/index.php/Archive:Patent_statistics\n",
    "\n",
    "* http://www.economist.com/node/21660559\n",
    "* https://github.com/OliverSherouse/wbdata\n",
    "* http://wbdata.readthedocs.io/en/latest/\n",
    "* http://data.europa.eu/euodp/en/data\n",
    "* https://plot.ly/python/create-online-dashboard/\n",
    "* http://databank.worldbank.org/data/reports.aspx?Code=BN.KLT.DINV.CD&id=1ff4a498&report_name=Popular-Indicators&populartype=series&ispopular=y\n",
    "* http://data.worldbank.org/indicator/BX.GSR.ROYL.CD?locations=IT\n",
    "* http://data.worldbank.org/indicator/BX.KLT.DINV.CD.WD?end=2015&locations=IT&start=2015&view=map\n",
    " \n",
    " A Visualization: https://d3js.org/ \n",
    " B Visualization: RDF Lib https://github.com/RDFLib/rdflib\n",
    "\n",
    "\n",
    "### Works Cited/Sources Optional:\n",
    "* http://www.licensemag.com/license-global/top-150-global-licensors\n",
    "* https://www2.deloitte.com/content/dam/Deloitte/cn/Documents/international-business-support/deloitte-cn-ibs-italy-tax-invest-en-2016.pdf\n",
    "* http://www.wipo.int/edocs/pubdocs/en/intproperty/941/wipo_pub_941_2012.pdf\n",
    "* http://www.sciencedirect.com/science/article/pii/S0047272714000103\n",
    "* http://data.europa.eu/euodp/en/developerscorner\n",
    "* http://ec.europa.eu/eurostat/data/database\n",
    "* http://data.europa.eu/euodp/en/data/dataset/uoB5ZYysi82NeVXwldifw\n",
    "* http://geonode.org/#install"
   ]
  },
  {
   "cell_type": "markdown",
   "metadata": {},
   "source": [
    "#### Minimum feature set:\n",
    "* Statistical model of intellectual property receipts per World Bank from 1990-2015; using D3.js or plot.ly. Source: http://data.worldbank.org/indicator/BX.GSR.ROYL.CD?locations=IT\n",
    "* Show intellectual property investment in high-tech vs. other sectors (e.g., media, music)\n",
    "* Show geographic clusters where intellecual property investments are highest, lowest\n",
    "* Provide resource tool for investors. \n",
    "\n",
    "\n",
    "#### Further work: \n",
    "* Provide predictive modeling tool for foreign investors who want to know when, where, and how to invest by selling intell prop rights in Italy, or by foreign direct investment (10% stakeholders).\n",
    "* What are the factors that contribute to growth/ anticipated growth based intellectual property use? \n",
    "* If you want to invest in intellectual property in high tech sector, what are the main factors to consider? Growth industries/sectors/manufacturing areas.\n",
    "* What is the risk/reward of investing in intellectucal prop in high-tech in Italy?"
   ]
  },
  {
   "cell_type": "markdown",
   "metadata": {},
   "source": [
    "#### Schedule\n",
    "* <b>WK10:</b> Install wbdata, Python, and introspect data objects. Redefine minimum feature set and scope based on availablilty of data from World Bank. Gather and determine whether useful to also use for comparative stats: http://ec.europa.eu/eurostat/data/database\n",
    "* <b>WK11:</b> Complete web pages using bootstrap and flexbox with simple layout (5-10 pages). Develop CSS. Develop historical model showing growth of intellectual property receipts from 1990-2015, progressive year-over-year model, with industry sector breakdown if possible. \n",
    "* <b>WK12:</b> Use GeoNode, or plot.ly, to create geographic clusters showing where highest amount of capital investments occurred. Refine layout of web pages. Assure main body shows growth in intellectual property receipts from 1990-2015, with overlays of high tech sector, and progressively fill out chart based on \"on click\" behavior for UI. Default behavior shows main graphic at 50% opacity. \n",
    "* <b>WK13:</b> Testing of UI, on-click behavior in Javascript; determine lifecyle of data.\n",
    "* <b>WK14: </b> Refinement, final testing"
   ]
  },
  {
   "cell_type": "markdown",
   "metadata": {},
   "source": [
    "### Challenges: \n",
    "\n",
    "* WHO: Investors/Analysts\n",
    "* WHAT: Understand growth patterns in IP in specific countries (Italy, India, Ireland, Greece); review Foreign Direct Investments against IP.\n",
    "* WHEN: Timeline 1990-2015\n",
    "* HOW: ??? Can users create an account and select their industry, thus projecting future trends based on past history? \n",
    "* WHY: Why invest in IP abroad? Why review growth patterns in IP sales. \n",
    "* WHERE: Italy, and rest of EU. \n",
    "\n",
    "* Creating 25 year chart of Intellectucal Property Receipts with D3.js; and conjoining this with eurostat data as overlay\n",
    "* Greatest amount of work will occur between WK11 and WK12.\n",
    "* Determining which \"modules\" are necessary for fleshing out World Bank Data and context for intellectual property receipts, and showing examples to mak* this \"real\" rather than imagined with statistics.\n",
    "* Determine whether to use pandas or other to access worldbank data  "
   ]
  },
  {
   "cell_type": "markdown",
   "metadata": {
    "collapsed": true
   },
   "source": [
    "# API Resoures"
   ]
  },
  {
   "cell_type": "markdown",
   "metadata": {},
   "source": [
    "TOPICS: http://api.worldbank.org/topics/?format=json\n",
    "\n",
    "## GDP: France, Germany, Italy, Spain, Switzerland, UK, USA.\n",
    "\n",
    "<br>GDP France: http://api.worldbank.org/countries/fr/indicators/NY.GDP.MKTP.CD?format=json </br>\n",
    "<br>GDP Germany:http://api.worldbank.org/countries/de/indicators/NY.GDP.MKTP.CD?format=json</br>\n",
    "<br>GDP Italy: http://api.worldbank.org/countries/it/indicators/NY.GDP.MKTP.CD?format=json</br>\n",
    "<br>GDP Spain:http://api.worldbank.org/countries/es/indicators/NY.GDP.MKTP.CD?format=json</br>\n",
    "<br>GDP Switz: http://api.worldbank.org/countries/us/indicators/NY.GDP.MKTP.CD?format=json</br>\n",
    "<br>GDP UK: http://api.worldbank.org/countries/gb/indicators/NY.GDP.MKTP.CD?format=json</br>\n",
    "<br>GDP US: http://api.worldbank.org/countries/us/indicators/NY.GDP.MKTP.CD?format=json</br>\n",
    "\n",
    "EU GDP: http://api.worldbank.org/countries/euu/indicators/NY.GDP.MKTP.CD?format=json\n",
    "\n"
   ]
  },
  {
   "cell_type": "markdown",
   "metadata": {},
   "source": [
    "# IP : Sales/receipts for intellectual property, copyrights, trademarks, patents\n",
    "\n",
    "<br> FranceIP: http://api.worldbank.org/countries/fr/indicators/BX.GSR.ROYL.CD?format=json</br>\n",
    "<br> GermanyIP: http://api.worldbank.org/countries/de/indicators/BX.GSR.ROYL.CD?format=json</br>\n",
    "<br> ItalyIP: http://api.worldbank.org/countries/it/indicators/BX.GSR.ROYL.CD?format=json</br>\n",
    "<br>Netherlands IP: http://api.worldbank.org/countries/nl/indicators/BX.GSR.ROYL.CD\n",
    "?format=json</br>\n",
    "<br>SpainIP: http://api.worldbank.org/countries/es/indicators/BX.GSR.ROYL.CD?format=json</br>\n",
    "<br>Switzerland IP: http://api.worldbank.org/countries/ch/indicators/BX.GSR.ROYL.CD\n",
    "?format=json</br>\n",
    "<br>UK IP: http://api.worldbank.org/countries/gb/indicators/BX.GSR.ROYL.CD\n",
    "?format=json</br>\n",
    "<br>US IP: http://api.worldbank.org/countries/us/indicators/BX.GSR.ROYL.CD?format=json</br>\n"
   ]
  },
  {
   "cell_type": "code",
   "execution_count": 3,
   "metadata": {},
   "outputs": [
    {
     "data": {
      "text/plain": [
       "'en_US.UTF-8'"
      ]
     },
     "execution_count": 3,
     "metadata": {},
     "output_type": "execute_result"
    }
   ],
   "source": [
    "import locale\n",
    "locale.setlocale( locale.LC_ALL, '' )"
   ]
  },
  {
   "cell_type": "code",
   "execution_count": 4,
   "metadata": {},
   "outputs": [
    {
     "data": {
      "text/plain": [
       "'$3,048,256,950.78'"
      ]
     },
     "execution_count": 4,
     "metadata": {},
     "output_type": "execute_result"
    }
   ],
   "source": [
    "\"${:,.2f}\".format(3048256950.7816)"
   ]
  },
  {
   "cell_type": "code",
   "execution_count": 5,
   "metadata": {},
   "outputs": [
    {
     "data": {
      "text/plain": [
       "'$14973681238.81'"
      ]
     },
     "execution_count": 5,
     "metadata": {},
     "output_type": "execute_result"
    }
   ],
   "source": [
    "locale.currency(14973681238.8084)"
   ]
  },
  {
   "cell_type": "code",
   "execution_count": 6,
   "metadata": {},
   "outputs": [
    {
     "data": {
      "text/plain": [
       "'Italy IP 2015 $2,418,835,532,882.33'"
      ]
     },
     "execution_count": 6,
     "metadata": {},
     "output_type": "execute_result"
    }
   ],
   "source": [
    "f'Italy IP 2015 '\"${:,.2f}\".format(2418835532882.33)"
   ]
  },
  {
   "cell_type": "code",
   "execution_count": 5,
   "metadata": {},
   "outputs": [
    {
     "data": {
      "text/plain": [
       "'France IP 2015 $14,973,681,238.81'"
      ]
     },
     "execution_count": 5,
     "metadata": {},
     "output_type": "execute_result"
    }
   ],
   "source": [
    "f'France IP 2015 '\"${:,.2f}\".format(14973681238.8084)"
   ]
  },
  {
   "cell_type": "code",
   "execution_count": 1,
   "metadata": {},
   "outputs": [
    {
     "data": {
      "text/plain": [
       "'France IP 2015 $1,646,425,318.16'"
      ]
     },
     "execution_count": 1,
     "metadata": {},
     "output_type": "execute_result"
    }
   ],
   "source": [
    "f'France IP 2015 '\"${:,.2f}\".format(1646425318.15532)"
   ]
  },
  {
   "cell_type": "markdown",
   "metadata": {
    "collapsed": true
   },
   "source": [
    "Use Python Console to explore the data object first"
   ]
  },
  {
   "cell_type": "markdown",
   "metadata": {
    "collapsed": true
   },
   "source": [
    "If you explore the object first, you learn how to call the object in the views.py file. "
   ]
  },
  {
   "cell_type": "markdown",
   "metadata": {
    "collapsed": true
   },
   "source": [
    "from analytics.models import Country, EconomicSnapshot\n",
    "\n",
    "from django.db.models import Max\n",
    "\n",
    "EconomicSnapshot.objects.filter(country__code='FR').aggregate(Max('year'))\n",
    "\n",
    "EconomicSnapshot.objects.filter(country__code='FR').aggregate(Max('year'))['year__max']\n",
    "\n"
   ]
  },
  {
   "cell_type": "markdown",
   "metadata": {},
   "source": [
    "# D3"
   ]
  },
  {
   "cell_type": "markdown",
   "metadata": {},
   "source": [
    " d3.selectAll('div')<br>\n",
    ".style('background-color', 'grey')<br>\n",
    ".attr('ExampleAttr', 'SomeValue')<br>"
   ]
  },
  {
   "cell_type": "code",
   "execution_count": 3,
   "metadata": {},
   "outputs": [
    {
     "ename": "SyntaxError",
     "evalue": "invalid syntax (<ipython-input-3-5da434ce4a61>, line 1)",
     "traceback": [
      "\u001b[0;36m  File \u001b[0;32m\"<ipython-input-3-5da434ce4a61>\"\u001b[0;36m, line \u001b[0;32m1\u001b[0m\n\u001b[0;31m    <!DOCTYPE html>\u001b[0m\n\u001b[0m    ^\u001b[0m\n\u001b[0;31mSyntaxError\u001b[0m\u001b[0;31m:\u001b[0m invalid syntax\n"
     ],
     "output_type": "error"
    }
   ],
   "source": [
    "<!DOCTYPE html>\n",
    "<html>\n",
    "<head>\n",
    "<title></title>\n",
    "</head>\n",
    "\n",
    "<body>\n",
    "    <div>I'm a lonely div.</div>\n",
    "    <div id=\"tree\">I'm a div with id \"tree\".</div>\n",
    "    <div class=\"house\">I'm the first div with class \"house\".</div>\n",
    "    <div class=\"house\">I'm the second div with the class \"house\".</div>\n",
    "    <script src=\"http://d3js.org/d3.v3.min.js\" charset=\"utf-8\"></script>\n",
    "\n",
    "I have a notebook cell containing JavaScript code, and I would like the code to select this particular cell. Unfortunately, the behavior of get_selected_cell depends on whether I execute the cell in place, or execute and select the cell below.\n",
    "\n",
    "Example:\n",
    "\n",
    "</body>"
   ]
  },
  {
   "cell_type": "code",
   "execution_count": 9,
   "metadata": {},
   "outputs": [
    {
     "data": {
      "text/plain": [
       "<IPython.core.display.Javascript object>"
      ]
     },
     "metadata": {},
     "output_type": "display_data"
    }
   ],
   "source": [
    "%%javascript\n",
    "d3.selectAll('.house')\n",
    ".classed('house')"
   ]
  },
  {
   "cell_type": "code",
   "execution_count": 10,
   "metadata": {},
   "outputs": [
    {
     "data": {
      "text/plain": [
       "<IPython.core.display.Javascript object>"
      ]
     },
     "metadata": {},
     "output_type": "display_data"
    }
   ],
   "source": [
    "%%javascript\n",
    "d3.selectAll('div.house')\n",
    ".style('color', '#FFFFFF')\n",
    ".style('background-color', '#000000')"
   ]
  },
  {
   "cell_type": "code",
   "execution_count": 12,
   "metadata": {},
   "outputs": [
    {
     "data": {
      "text/plain": [
       "<IPython.core.display.Javascript object>"
      ]
     },
     "metadata": {},
     "output_type": "display_data"
    }
   ],
   "source": [
    "%%javascript\n",
    "d3.select('#tree')\n",
    ".classed('house')\n",
    "false"
   ]
  },
  {
   "cell_type": "markdown",
   "metadata": {},
   "source": [
    ".classed returns a Boolean, true/false; therefore, it cannot use chained methods. "
   ]
  },
  {
   "cell_type": "code",
   "execution_count": 20,
   "metadata": {},
   "outputs": [
    {
     "data": {
      "text/plain": [
       "<IPython.core.display.Javascript object>"
      ]
     },
     "metadata": {},
     "output_type": "display_data"
    }
   ],
   "source": [
    "%%javascript\n",
    "<html>\n",
    "<head>\n",
    "<title></title>\n",
    "</head>\n",
    "\n",
    "<body>\n",
    "    <svg height=\"800\" width=\"500\">\n",
    "        <circle/>\n",
    "        <circle r=\"50\"/>\n",
    "        <circle r=\"50\" cx=\"200\" cy=\"300\"/>\n",
    "            \n",
    "    </svg> <!--NOTE: All operations MUST be done enclose in the <svg> tag. \n",
    "\n",
    "    <script src=\"http://d3js.org/d3.v3.min.js\" charset=\"utf-8\"></script>\n",
    "</body>"
   ]
  },
  {
   "cell_type": "markdown",
   "metadata": {},
   "source": [
    "<html>\n",
    "<head>\n",
    "<title></title>\n",
    "</head>\n",
    "\n",
    "<body>\n",
    "    <svg height=\"800\" width=\"500\">\n",
    "        <circle/>\n",
    "        <circle r=\"50\"/>\n",
    "        <circle r=\"50\" cx=\"200\" cy=\"300\"/>\n",
    "    </svg>\n",
    "\n",
    "    <script src=\"http://d3js.org/d3.v3.min.js\" charset=\"utf-8\"></script>\n",
    "</body>"
   ]
  },
  {
   "cell_type": "code",
   "execution_count": 19,
   "metadata": {},
   "outputs": [
    {
     "data": {
      "text/plain": [
       "<IPython.core.display.Javascript object>"
      ]
     },
     "metadata": {},
     "output_type": "display_data"
    }
   ],
   "source": [
    "%%javascript\n",
    "<html>\n",
    "<head>\n",
    "<title></title>\n",
    "</head>\n",
    "\n",
    "<body>\n",
    "    <svg height=\"800\" width=\"500\">\n",
    "        <line/>\n",
    "        <line x1=\"0\" y1=\"0\" x2=\"100\" y2=\"100\"/>\n",
    "        <line x1=\"0\" y1=\"0\" x2=\"100\" y2=\"100\" stroke=\"purple\"/>\n",
    "        <line x1=\"10\" y1=\"0\" x2=\"10\" y2=\"100\" stroke=\"red\"/>\n",
    "        <line x1=\"30\" y1=\"10\" x2=\"130\" y2=\"10\" stroke=\"blue\"/>\n",
    "    </svg>\n",
    "\n",
    "    <script src=\"http://d3js.org/d3.v3.min.js\" charset=\"utf-8\"></script>\n",
    "</body>\n",
    "</html>"
   ]
  },
  {
   "cell_type": "code",
   "execution_count": null,
   "metadata": {
    "collapsed": true
   },
   "outputs": [],
   "source": [
    "%%javascript"
   ]
  }
 ],
 "metadata": {
  "kernelspec": {
   "display_name": "Python 3",
   "language": "python",
   "name": "python3"
  },
  "language_info": {
   "codemirror_mode": {
    "name": "ipython",
    "version": 3
   },
   "file_extension": ".py",
   "mimetype": "text/x-python",
   "name": "python",
   "nbconvert_exporter": "python",
   "pygments_lexer": "ipython3",
   "version": "3.6.0"
  }
 },
 "nbformat": 4,
 "nbformat_minor": 0
}
